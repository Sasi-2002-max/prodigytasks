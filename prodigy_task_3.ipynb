{
  "nbformat": 4,
  "nbformat_minor": 0,
  "metadata": {
    "colab": {
      "provenance": [],
      "authorship_tag": "ABX9TyOMqTtfJyJCDPfbbO+Pv7KT",
      "include_colab_link": true
    },
    "kernelspec": {
      "name": "python3",
      "display_name": "Python 3"
    },
    "language_info": {
      "name": "python"
    }
  },
  "cells": [
    {
      "cell_type": "markdown",
      "metadata": {
        "id": "view-in-github",
        "colab_type": "text"
      },
      "source": [
        "<a href=\"https://colab.research.google.com/github/Sasi-2002-max/prodigytasks/blob/main/prodigy_task_3.ipynb\" target=\"_parent\"><img src=\"https://colab.research.google.com/assets/colab-badge.svg\" alt=\"Open In Colab\"/></a>"
      ]
    },
    {
      "cell_type": "code",
      "execution_count": 3,
      "metadata": {
        "colab": {
          "base_uri": "https://localhost:8080/",
          "height": 356
        },
        "id": "cHWiM1kNw5MJ",
        "outputId": "df5ceb8f-ef1a-44be-ab22-302becaa4f33"
      },
      "outputs": [
        {
          "output_type": "error",
          "ename": "FileNotFoundError",
          "evalue": "[Errno 2] No such file or directory: '/kaggle/input/dogs-vs-cats/train.zip'",
          "traceback": [
            "\u001b[0;31m---------------------------------------------------------------------------\u001b[0m",
            "\u001b[0;31mFileNotFoundError\u001b[0m                         Traceback (most recent call last)",
            "\u001b[0;32m<ipython-input-3-199f3413197e>\u001b[0m in \u001b[0;36m<cell line: 29>\u001b[0;34m()\u001b[0m\n\u001b[1;32m     27\u001b[0m         \u001b[0mplt\u001b[0m\u001b[0;34m.\u001b[0m\u001b[0mshow\u001b[0m\u001b[0;34m(\u001b[0m\u001b[0;34m)\u001b[0m\u001b[0;34m\u001b[0m\u001b[0;34m\u001b[0m\u001b[0m\n\u001b[1;32m     28\u001b[0m \u001b[0;31m# train data\u001b[0m\u001b[0;34m\u001b[0m\u001b[0;34m\u001b[0m\u001b[0m\n\u001b[0;32m---> 29\u001b[0;31m \u001b[0mvisualize\u001b[0m\u001b[0;34m(\u001b[0m\u001b[0mzip_train_path\u001b[0m\u001b[0;34m,\u001b[0m \u001b[0mnum_images\u001b[0m\u001b[0;34m=\u001b[0m\u001b[0;36m10\u001b[0m\u001b[0;34m)\u001b[0m\u001b[0;34m\u001b[0m\u001b[0;34m\u001b[0m\u001b[0m\n\u001b[0m\u001b[1;32m     30\u001b[0m \u001b[0mvisualize\u001b[0m\u001b[0;34m(\u001b[0m\u001b[0mzip_test_path\u001b[0m\u001b[0;34m,\u001b[0m \u001b[0mnum_images\u001b[0m\u001b[0;34m=\u001b[0m\u001b[0;36m10\u001b[0m\u001b[0;34m)\u001b[0m\u001b[0;34m\u001b[0m\u001b[0;34m\u001b[0m\u001b[0m\n\u001b[1;32m     31\u001b[0m \u001b[0mnew_size\u001b[0m \u001b[0;34m=\u001b[0m \u001b[0;34m(\u001b[0m\u001b[0;36m128\u001b[0m\u001b[0;34m,\u001b[0m \u001b[0;36m128\u001b[0m\u001b[0;34m)\u001b[0m\u001b[0;34m\u001b[0m\u001b[0;34m\u001b[0m\u001b[0m\n",
            "\u001b[0;32m<ipython-input-3-199f3413197e>\u001b[0m in \u001b[0;36mvisualize\u001b[0;34m(input_zip, num_images)\u001b[0m\n\u001b[1;32m     13\u001b[0m \u001b[0mzip_test_path\u001b[0m \u001b[0;34m=\u001b[0m \u001b[0;34m'/kaggle/input/dogs-vs-cats/test1.zip'\u001b[0m\u001b[0;34m\u001b[0m\u001b[0;34m\u001b[0m\u001b[0m\n\u001b[1;32m     14\u001b[0m \u001b[0;32mdef\u001b[0m \u001b[0mvisualize\u001b[0m\u001b[0;34m(\u001b[0m\u001b[0minput_zip\u001b[0m\u001b[0;34m,\u001b[0m \u001b[0mnum_images\u001b[0m\u001b[0;34m=\u001b[0m\u001b[0;36m10\u001b[0m\u001b[0;34m)\u001b[0m\u001b[0;34m:\u001b[0m\u001b[0;34m\u001b[0m\u001b[0;34m\u001b[0m\u001b[0m\n\u001b[0;32m---> 15\u001b[0;31m     \u001b[0;32mwith\u001b[0m \u001b[0mzipfile\u001b[0m\u001b[0;34m.\u001b[0m\u001b[0mZipFile\u001b[0m\u001b[0;34m(\u001b[0m\u001b[0minput_zip\u001b[0m\u001b[0;34m,\u001b[0m \u001b[0;34m'r'\u001b[0m\u001b[0;34m)\u001b[0m \u001b[0;32mas\u001b[0m \u001b[0marchive_zip\u001b[0m\u001b[0;34m:\u001b[0m\u001b[0;34m\u001b[0m\u001b[0;34m\u001b[0m\u001b[0m\n\u001b[0m\u001b[1;32m     16\u001b[0m         \u001b[0marchives\u001b[0m \u001b[0;34m=\u001b[0m \u001b[0marchive_zip\u001b[0m\u001b[0;34m.\u001b[0m\u001b[0mnamelist\u001b[0m\u001b[0;34m(\u001b[0m\u001b[0;34m)\u001b[0m\u001b[0;34m\u001b[0m\u001b[0;34m\u001b[0m\u001b[0m\n\u001b[1;32m     17\u001b[0m \u001b[0;34m\u001b[0m\u001b[0m\n",
            "\u001b[0;32m/usr/lib/python3.10/zipfile.py\u001b[0m in \u001b[0;36m__init__\u001b[0;34m(self, file, mode, compression, allowZip64, compresslevel, strict_timestamps)\u001b[0m\n\u001b[1;32m   1252\u001b[0m             \u001b[0;32mwhile\u001b[0m \u001b[0;32mTrue\u001b[0m\u001b[0;34m:\u001b[0m\u001b[0;34m\u001b[0m\u001b[0;34m\u001b[0m\u001b[0m\n\u001b[1;32m   1253\u001b[0m                 \u001b[0;32mtry\u001b[0m\u001b[0;34m:\u001b[0m\u001b[0;34m\u001b[0m\u001b[0;34m\u001b[0m\u001b[0m\n\u001b[0;32m-> 1254\u001b[0;31m                     \u001b[0mself\u001b[0m\u001b[0;34m.\u001b[0m\u001b[0mfp\u001b[0m \u001b[0;34m=\u001b[0m \u001b[0mio\u001b[0m\u001b[0;34m.\u001b[0m\u001b[0mopen\u001b[0m\u001b[0;34m(\u001b[0m\u001b[0mfile\u001b[0m\u001b[0;34m,\u001b[0m \u001b[0mfilemode\u001b[0m\u001b[0;34m)\u001b[0m\u001b[0;34m\u001b[0m\u001b[0;34m\u001b[0m\u001b[0m\n\u001b[0m\u001b[1;32m   1255\u001b[0m                 \u001b[0;32mexcept\u001b[0m \u001b[0mOSError\u001b[0m\u001b[0;34m:\u001b[0m\u001b[0;34m\u001b[0m\u001b[0;34m\u001b[0m\u001b[0m\n\u001b[1;32m   1256\u001b[0m                     \u001b[0;32mif\u001b[0m \u001b[0mfilemode\u001b[0m \u001b[0;32min\u001b[0m \u001b[0mmodeDict\u001b[0m\u001b[0;34m:\u001b[0m\u001b[0;34m\u001b[0m\u001b[0;34m\u001b[0m\u001b[0m\n",
            "\u001b[0;31mFileNotFoundError\u001b[0m: [Errno 2] No such file or directory: '/kaggle/input/dogs-vs-cats/train.zip'"
          ]
        }
      ],
      "source": [
        "import zipfile\n",
        "from PIL import Image\n",
        "import matplotlib.pyplot as plt\n",
        "import io\n",
        "import numpy as np\n",
        "from sklearn.model_selection import train_test_split\n",
        "import tensorflow as tf\n",
        "from tensorflow.keras.models import Sequential\n",
        "from tensorflow.keras.layers import Conv2D, MaxPooling2D, Flatten, Dense, Dropout\n",
        "from sklearn.metrics import confusion_matrix, ConfusionMatrixDisplay\n",
        "import seaborn as sns\n",
        "zip_train_path = '/kaggle/input/dogs-vs-cats/train.zip'\n",
        "zip_test_path = '/kaggle/input/dogs-vs-cats/test1.zip'\n",
        "def visualize(input_zip, num_images=10):\n",
        "    with zipfile.ZipFile(input_zip, 'r') as archive_zip:\n",
        "        archives = archive_zip.namelist()\n",
        "\n",
        "        images = [archive for archive in archives if archive.endswith(('.png', '.jpg', '.jpeg'))]\n",
        "\n",
        "        for i, img_path in enumerate(images[:num_images]):\n",
        "            with archive_zip.open(img_path) as image_zip:\n",
        "                img = Image.open(io.BytesIO(image_zip.read()))\n",
        "                plt.subplot(1, num_images, i + 1)\n",
        "                plt.imshow(img)\n",
        "                plt.axis('off')\n",
        "\n",
        "        plt.show()\n",
        "# train data\n",
        "visualize(zip_train_path, num_images=10)\n",
        "visualize(zip_test_path, num_images=10)\n",
        "new_size = (128, 128)\n",
        "def resize(input_zip, num_images=10, size=new_size):\n",
        "    with zipfile.ZipFile(input_zip, 'r') as archive_zip:\n",
        "        archives = archive_zip.namelist()\n",
        "        images = [archive for archive in archives if archive.endswith(('.png', '.jpg', '.jpeg'))]\n",
        "\n",
        "        for i, img_path in enumerate(images[:num_images]):\n",
        "            with archive_zip.open(img_path) as image_zip:\n",
        "                img = Image.open(io.BytesIO(image_zip.read()))\n",
        "                img = img.convert('L')\n",
        "                img = img.resize(size)\n",
        "\n",
        "                plt.subplot(1, num_images, i + 1)\n",
        "                plt.imshow(img, cmap='gray')\n",
        "                plt.axis('off')\n",
        "\n",
        "        plt.show()\n",
        "resize(zip_train_path, num_images=10, size=(128, 128))\n",
        "\n",
        "resize(zip_test_path, num_images=10, size=(128, 128))\n",
        "\n",
        "# Count dataset size\n",
        "def count(input_zip):\n",
        "    with zipfile.ZipFile(input_zip, 'r') as archive_zip:\n",
        "        archives = archive_zip.namelist()\n",
        "\n",
        "        images = [archive for archive in archives if archive.endswith(('.png', '.jpg', '.jpeg'))]\n",
        "        num_images = len(images)\n",
        "        print(f\"Images in {input_zip}: {num_images}\")\n",
        "count(zip_train_path)\n",
        "count(zip_test_path)\n",
        "new_size = (128, 128)\n",
        "\n",
        "def preprocess(input_zip, size=new_size):\n",
        "    images_processed = []\n",
        "\n",
        "    with zipfile.ZipFile(input_zip, 'r') as archive_zip:\n",
        "        archives = archive_zip.namelist()\n",
        "\n",
        "        images = [archive for archive in archives if archive.endswith(('.png', '.jpg', '.jpeg'))]\n",
        "\n",
        "        for img_path in images:\n",
        "            with archive_zip.open(img_path) as image_zip:\n",
        "                img = Image.open(io.BytesIO(image_zip.read()))\n",
        "\n",
        "                img = img.convert('L')\n",
        "\n",
        "                img = img.resize(size)\n",
        "\n",
        "                img_array = np.array(img) / 255.0\n",
        "                images_processed.append(img_array)\n",
        "\n",
        "    dataset = np.array(images_processed)\n",
        "\n",
        "    return dataset\n",
        "train_dataset = preprocess(zip_train_path, new_size)\n",
        "test_dataset = preprocess(zip_test_path, new_size)\n",
        "train_dataset\n",
        "def extract_tags(input_zip):\n",
        "    results = []\n",
        "    with zipfile.ZipFile(input_zip, 'r') as archive_zip:\n",
        "        archives = archive_zip.namelist()\n",
        "\n",
        "        images = [archive for archive in archives if archive.endswith(('.png', '.jpg', '.jpeg'))]\n",
        "\n",
        "        for img_path in images:\n",
        "            if 'dog' in img_path.lower():\n",
        "                results.append(('dog', img_path))\n",
        "            elif 'cat' in img_path.lower():\n",
        "                results.append(('cat', img_path))\n",
        "            else:\n",
        "                results.append(('unknown', img_path))  # Si no es identificable\n",
        "\n",
        "    return results\n",
        "train_labels = extract_tags(zip_train_path)\n",
        "for label, img_path in train_labels[:10]:\n",
        "    print(f\"Image: {img_path}, Label: {label}\")"
      ]
    }
  ]
}